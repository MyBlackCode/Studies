{
 "cells": [
  {
   "cell_type": "code",
   "execution_count": 1,
   "id": "540e2389",
   "metadata": {},
   "outputs": [],
   "source": [
    "import random\n",
    "# zmienne wystęujące w algorytmie\n",
    "L=2            #liczba warstw\n",
    "mi = 0.1       #współczynnik uczenia\n",
    "N = [2, 2, 1]  #N_0, N_1, N_2 - liczba neuronów (lub wejsc dla N0) w każdej z warstw\n",
    "\n",
    "w = [                                    #wartosci wag         \n",
    "        [],                              #warstwa 0 (brak neuronow)\n",
    "        [[],[0,0,0],[0,0,0]],            #warstwa 1 (nie ma neuronu 0, neuron 1 i 2 ma 3 wagi\n",
    "        [[],[0,0,0]]                     #warstwa 2 (nie ma neurony 0, neuron 1 ma 3 wagi)\n",
    "]\n",
    "\n",
    "s = [                                   #wartości sum s\n",
    "        [],                             #warstwa 0 nie posiada sum\n",
    "        [None, 0, 0],                   #warstwa 1 posiada sume dla neuronu numer 1 i 2 (nie ma neuronu 0 jest dlatego None)\n",
    "        [None, 0]                       #warstwa 2 posiada sume dla neuronu numwr 1 (nie ma neuronu 0 dlatego jest None)\n",
    "]\n",
    "\n",
    "x = [                                   #wartosci wejsc x\n",
    "        [],                             #warstwa 0 nie posiada wejsc\n",
    "        [-1,0,0],                       #warstwa 1 posiada 3 wejscia dla kazdego neuronu (x0=+1 oraz x1,x2)\n",
    "        [-1,0,0]                        #warstwa 2 posiada 3 wejscia dla neuronu nr 1 (x0=+1 oraz x1,x2)\n",
    "]\n",
    "\n",
    "y = [                                   #wartosci wyjsciowe neuronow (po wykonaniu funkcji aktywacji f(s))\n",
    "        [],                             #warstwa 0 nie posiada wyjsc\n",
    "        [None,0,0],                     #warstwa 1 posiada 2 wyjscia dla dwoch neuronow 1 i 2 (nie ma neuronu 0 więc jest None)\n",
    "        [None,0]                        #warstwa 1 posiada 1 wyjscie dla neuronu 1 (nie ma neuronu 0 więc jest None)\n",
    "]\n",
    "\n",
    "e = [\n",
    "        [],                             #blad syganlu wyjsciowego\n",
    "        [None,0,0],\n",
    "        [None,0]\n",
    "]\n",
    "\n",
    "dlt = [                                #wartosc korekty bledu\n",
    "        [],\n",
    "        [None,0,0],\n",
    "        [None,0]\n",
    "]\n",
    "\n"
   ]
  },
  {
   "cell_type": "code",
   "execution_count": 2,
   "id": "536dddbe",
   "metadata": {},
   "outputs": [],
   "source": [
    "#Funkcje wystęujące w algorytmie\n",
    "import math\n",
    "\n",
    "#losowanie wag\n",
    "def losuj_w():\n",
    "    for k in range(1,L+1):\n",
    "        for i in range(1,N[k]+1):\n",
    "            for j in range(0,N[k-1]+1):\n",
    "                w[k][i][j] = random.random()*2-1\n",
    "\n",
    "#funkcja aktywacji \"sigmoida\"\n",
    "def f(s):\n",
    "    return 1/(1+math.exp(-s))\n",
    "\n",
    "#pochodna funkcji aktywacji \n",
    "def f_poch(s):\n",
    "    return f(s)*(1-f(s))\n",
    "\n",
    "def licz_y(u):\n",
    "    for k in range(1, L+1):\n",
    "        for i in range(1,N[k-1]+1):\n",
    "            if k==1:\n",
    "                x[k][i] = u[i-1]\n",
    "            else:\n",
    "                x[k][i] = y[k-1][i]\n",
    "        \n",
    "        for i in range(1,N[k]+1):\n",
    "            s[k][i] = 0\n",
    "            for j in range(0,N[k-1]+1):\n",
    "                s[k][i] += w[k][i][j]*x[k][j]\n",
    "            y[k][i] = f(s[k][i])\n",
    "    return y[L][1]\n",
    "\n",
    "def licz_e(d):\n",
    "    for k in range(L,1-1,-1):\n",
    "        for i in range(1,N[k]+1):\n",
    "            if k==L:\n",
    "                e[k][i] = d - y[k][i]\n",
    "            else:\n",
    "                e[k][i] = 0\n",
    "                for j in range(1,N[k+1]+1):\n",
    "                    e[k][i] += dlt[k+1][j]* w[k+1][j][i]\n",
    "            dlt[k][i] = e[k][i]* f_poch(s[k][i])"
   ]
  },
  {
   "cell_type": "code",
   "execution_count": 3,
   "id": "7b4bab29",
   "metadata": {},
   "outputs": [
    {
     "name": "stdout",
     "output_type": "stream",
     "text": [
      "[[], [[], [-0.5364742481204297, -0.37345830170271443, 0.7308711692645], [0.8845264815255982, 0.8138166300646803, -0.41196673078544244]], [[], [0.15339891921423, -0.9373837697579182, -0.9755338445538266]]]\n"
     ]
    }
   ],
   "source": [
    "losuj_w()\n",
    "print(w)\n",
    "\n",
    "u = [ [0,0],   #dane wejsciowe [u1, u2]\n",
    "      [0,1],\n",
    "      [1,0],\n",
    "      [1,1] ]\n",
    "\n",
    "d = [ 0,       #wzorcowe dane oczekiwane na wyjsciu sieci\n",
    "      1,\n",
    "      1,\n",
    "      0]"
   ]
  },
  {
   "cell_type": "code",
   "execution_count": 4,
   "id": "9ad4c732",
   "metadata": {},
   "outputs": [
    {
     "name": "stdout",
     "output_type": "stream",
     "text": [
      "Uczenie zakończono w  2242 iteracjach\n",
      "[0.0, 1.0, 1.0, 0.0]\n"
     ]
    }
   ],
   "source": [
    "import matplotlib.pyplot as plt\n",
    "wynik = [1,0,0,1]\n",
    "n=1\n",
    "M = len(u)\n",
    "max_n = 10000\n",
    "for n in range(max_n):\n",
    "    sum = 0\n",
    "    for m in range(len(u)):\n",
    "        uu = u[m]\n",
    "        dd = d[m]\n",
    "        wynik[m] = round(licz_y(uu),0)   \n",
    "        licz_e(dd)\n",
    "        #for k in range(L,1-1,-1):\n",
    "        #   for i in range(1,N[k]+1):\n",
    "        #        for j in range(0,N[k-1]+1):\n",
    "        for k in range(1,L+1):\n",
    "            for i in range(1,N[k]+1):\n",
    "                for j in range(0,N[k-1]+1):\n",
    "                    w[k][i][j]= w[k][i][j]+ 2*mi*dlt[k][i]*x[k][j]\n",
    "        sum += math.pow(dd -wynik[m],2)\n",
    "    #błąd średniokwadratowy\n",
    "    Q= 1/M * sum\n",
    "    if(Q < 0.01):\n",
    "        print(\"Uczenie zakończono w \", n , \"iteracjach\")\n",
    "        break\n",
    "\n",
    "\n",
    "print(wynik)       "
   ]
  },
  {
   "cell_type": "code",
   "execution_count": null,
   "id": "d073321c",
   "metadata": {},
   "outputs": [],
   "source": []
  }
 ],
 "metadata": {
  "kernelspec": {
   "display_name": "Python 3 (ipykernel)",
   "language": "python",
   "name": "python3"
  },
  "language_info": {
   "codemirror_mode": {
    "name": "ipython",
    "version": 3
   },
   "file_extension": ".py",
   "mimetype": "text/x-python",
   "name": "python",
   "nbconvert_exporter": "python",
   "pygments_lexer": "ipython3",
   "version": "3.10.8"
  }
 },
 "nbformat": 4,
 "nbformat_minor": 5
}
